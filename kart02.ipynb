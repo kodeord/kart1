{
 "cells": [
  {
   "cell_type": "markdown",
   "id": "190f6998",
   "metadata": {},
   "source": [
    "### Vise steder og beregne avstand\n",
    "Først opprettes et kart over Europa. Så leses det inn noen byer fra fil.\n",
    "Deretter plottes byene på kartet. Til slutt plukkes to byer ut, og avstanden mellom dem beregnes."
   ]
  },
  {
   "cell_type": "code",
   "execution_count": 1,
   "id": "1a43305f",
   "metadata": {},
   "outputs": [],
   "source": [
    "# Lage kart over Europa\n",
    "import folium\n",
    "KartSentrum = [52.5, 11]\n",
    "kart = folium.Map(location=KartSentrum, zoom_start=4)"
   ]
  },
  {
   "cell_type": "code",
   "execution_count": 2,
   "id": "8bc76089",
   "metadata": {},
   "outputs": [
    {
     "name": "stdout",
     "output_type": "stream",
     "text": [
      "          By         x         y   farge\n",
      "0     London  51.50732  -0.12765    blue\n",
      "1      Paris  48.85661   2.35150     red\n",
      "2  Amsterdam  52.37454   4.89798  orange\n",
      "3  Barcelona  41.38289   2.17743  yellow\n",
      "4       Wien  48.20835  16.37250     red\n"
     ]
    }
   ],
   "source": [
    "# Les inn steder fra fil\n",
    "import pandas as pd\n",
    "df = pd.read_csv('steder.csv')\n",
    "print(df)"
   ]
  },
  {
   "cell_type": "code",
   "execution_count": 3,
   "id": "26f30a02",
   "metadata": {
    "scrolled": true
   },
   "outputs": [
    {
     "data": {
      "text/html": [
       "<div style=\"width:100%;\"><div style=\"position:relative;width:100%;height:0;padding-bottom:60%;\"><span style=\"color:#565656\">Make this Notebook Trusted to load map: File -> Trust Notebook</span><iframe srcdoc=\"&lt;!DOCTYPE html&gt;\n",
       "&lt;head&gt;    \n",
       "    &lt;meta http-equiv=&quot;content-type&quot; content=&quot;text/html; charset=UTF-8&quot; /&gt;\n",
       "    \n",
       "        &lt;script&gt;\n",
       "            L_NO_TOUCH = false;\n",
       "            L_DISABLE_3D = false;\n",
       "        &lt;/script&gt;\n",
       "    \n",
       "    &lt;style&gt;html, body {width: 100%;height: 100%;margin: 0;padding: 0;}&lt;/style&gt;\n",
       "    &lt;style&gt;#map {position:absolute;top:0;bottom:0;right:0;left:0;}&lt;/style&gt;\n",
       "    &lt;script src=&quot;https://cdn.jsdelivr.net/npm/leaflet@1.6.0/dist/leaflet.js&quot;&gt;&lt;/script&gt;\n",
       "    &lt;script src=&quot;https://code.jquery.com/jquery-1.12.4.min.js&quot;&gt;&lt;/script&gt;\n",
       "    &lt;script src=&quot;https://maxcdn.bootstrapcdn.com/bootstrap/3.2.0/js/bootstrap.min.js&quot;&gt;&lt;/script&gt;\n",
       "    &lt;script src=&quot;https://cdnjs.cloudflare.com/ajax/libs/Leaflet.awesome-markers/2.0.2/leaflet.awesome-markers.js&quot;&gt;&lt;/script&gt;\n",
       "    &lt;link rel=&quot;stylesheet&quot; href=&quot;https://cdn.jsdelivr.net/npm/leaflet@1.6.0/dist/leaflet.css&quot;/&gt;\n",
       "    &lt;link rel=&quot;stylesheet&quot; href=&quot;https://maxcdn.bootstrapcdn.com/bootstrap/3.2.0/css/bootstrap.min.css&quot;/&gt;\n",
       "    &lt;link rel=&quot;stylesheet&quot; href=&quot;https://maxcdn.bootstrapcdn.com/bootstrap/3.2.0/css/bootstrap-theme.min.css&quot;/&gt;\n",
       "    &lt;link rel=&quot;stylesheet&quot; href=&quot;https://maxcdn.bootstrapcdn.com/font-awesome/4.6.3/css/font-awesome.min.css&quot;/&gt;\n",
       "    &lt;link rel=&quot;stylesheet&quot; href=&quot;https://cdnjs.cloudflare.com/ajax/libs/Leaflet.awesome-markers/2.0.2/leaflet.awesome-markers.css&quot;/&gt;\n",
       "    &lt;link rel=&quot;stylesheet&quot; href=&quot;https://cdn.jsdelivr.net/gh/python-visualization/folium/folium/templates/leaflet.awesome.rotate.min.css&quot;/&gt;\n",
       "    \n",
       "            &lt;meta name=&quot;viewport&quot; content=&quot;width=device-width,\n",
       "                initial-scale=1.0, maximum-scale=1.0, user-scalable=no&quot; /&gt;\n",
       "            &lt;style&gt;\n",
       "                #map_87a98ec36e97dc5c76aff3a04903f6a4 {\n",
       "                    position: relative;\n",
       "                    width: 100.0%;\n",
       "                    height: 100.0%;\n",
       "                    left: 0.0%;\n",
       "                    top: 0.0%;\n",
       "                }\n",
       "            &lt;/style&gt;\n",
       "        \n",
       "&lt;/head&gt;\n",
       "&lt;body&gt;    \n",
       "    \n",
       "            &lt;div class=&quot;folium-map&quot; id=&quot;map_87a98ec36e97dc5c76aff3a04903f6a4&quot; &gt;&lt;/div&gt;\n",
       "        \n",
       "&lt;/body&gt;\n",
       "&lt;script&gt;    \n",
       "    \n",
       "            var map_87a98ec36e97dc5c76aff3a04903f6a4 = L.map(\n",
       "                &quot;map_87a98ec36e97dc5c76aff3a04903f6a4&quot;,\n",
       "                {\n",
       "                    center: [52.5, 11.0],\n",
       "                    crs: L.CRS.EPSG3857,\n",
       "                    zoom: 4,\n",
       "                    zoomControl: true,\n",
       "                    preferCanvas: false,\n",
       "                }\n",
       "            );\n",
       "\n",
       "            \n",
       "\n",
       "        \n",
       "    \n",
       "            var tile_layer_5797292d44d3a2e603293db17e1c5252 = L.tileLayer(\n",
       "                &quot;https://{s}.tile.openstreetmap.org/{z}/{x}/{y}.png&quot;,\n",
       "                {&quot;attribution&quot;: &quot;Data by \\u0026copy; \\u003ca href=\\&quot;http://openstreetmap.org\\&quot;\\u003eOpenStreetMap\\u003c/a\\u003e, under \\u003ca href=\\&quot;http://www.openstreetmap.org/copyright\\&quot;\\u003eODbL\\u003c/a\\u003e.&quot;, &quot;detectRetina&quot;: false, &quot;maxNativeZoom&quot;: 18, &quot;maxZoom&quot;: 18, &quot;minZoom&quot;: 0, &quot;noWrap&quot;: false, &quot;opacity&quot;: 1, &quot;subdomains&quot;: &quot;abc&quot;, &quot;tms&quot;: false}\n",
       "            ).addTo(map_87a98ec36e97dc5c76aff3a04903f6a4);\n",
       "        \n",
       "    \n",
       "            var circle_marker_2add5630f2b6480ebea508eee14a7a63 = L.circleMarker(\n",
       "                [51.50732, -0.12765],\n",
       "                {&quot;bubblingMouseEvents&quot;: true, &quot;color&quot;: [&quot;blue&quot;], &quot;dashArray&quot;: null, &quot;dashOffset&quot;: null, &quot;fill&quot;: false, &quot;fillColor&quot;: [&quot;blue&quot;], &quot;fillOpacity&quot;: 0.2, &quot;fillRule&quot;: &quot;evenodd&quot;, &quot;lineCap&quot;: &quot;round&quot;, &quot;lineJoin&quot;: &quot;round&quot;, &quot;opacity&quot;: 1.0, &quot;radius&quot;: 10, &quot;stroke&quot;: true, &quot;weight&quot;: 3}\n",
       "            ).addTo(map_87a98ec36e97dc5c76aff3a04903f6a4);\n",
       "        \n",
       "    \n",
       "        var popup_710be70f5f2db1d578e5f752ab416bc9 = L.popup({&quot;maxWidth&quot;: &quot;100%&quot;});\n",
       "\n",
       "        \n",
       "            \n",
       "                var html_79f71ea5e14e45364156a7f5efd076c5 = $(`&lt;div id=&quot;html_79f71ea5e14e45364156a7f5efd076c5&quot; style=&quot;width: 100.0%; height: 100.0%;&quot;&gt;London&lt;/div&gt;`)[0];\n",
       "                popup_710be70f5f2db1d578e5f752ab416bc9.setContent(html_79f71ea5e14e45364156a7f5efd076c5);\n",
       "            \n",
       "        \n",
       "\n",
       "        circle_marker_2add5630f2b6480ebea508eee14a7a63.bindPopup(popup_710be70f5f2db1d578e5f752ab416bc9)\n",
       "        ;\n",
       "\n",
       "        \n",
       "    \n",
       "    \n",
       "            var circle_marker_813fc2608b84faab255f65d4934d41a8 = L.circleMarker(\n",
       "                [48.85661, 2.3515],\n",
       "                {&quot;bubblingMouseEvents&quot;: true, &quot;color&quot;: [&quot;red&quot;], &quot;dashArray&quot;: null, &quot;dashOffset&quot;: null, &quot;fill&quot;: false, &quot;fillColor&quot;: [&quot;red&quot;], &quot;fillOpacity&quot;: 0.2, &quot;fillRule&quot;: &quot;evenodd&quot;, &quot;lineCap&quot;: &quot;round&quot;, &quot;lineJoin&quot;: &quot;round&quot;, &quot;opacity&quot;: 1.0, &quot;radius&quot;: 10, &quot;stroke&quot;: true, &quot;weight&quot;: 3}\n",
       "            ).addTo(map_87a98ec36e97dc5c76aff3a04903f6a4);\n",
       "        \n",
       "    \n",
       "        var popup_1d6abf238f231344ee07a4d80c5ac95b = L.popup({&quot;maxWidth&quot;: &quot;100%&quot;});\n",
       "\n",
       "        \n",
       "            \n",
       "                var html_5c71102ab4d743eca80eaa9a7879e877 = $(`&lt;div id=&quot;html_5c71102ab4d743eca80eaa9a7879e877&quot; style=&quot;width: 100.0%; height: 100.0%;&quot;&gt;Paris&lt;/div&gt;`)[0];\n",
       "                popup_1d6abf238f231344ee07a4d80c5ac95b.setContent(html_5c71102ab4d743eca80eaa9a7879e877);\n",
       "            \n",
       "        \n",
       "\n",
       "        circle_marker_813fc2608b84faab255f65d4934d41a8.bindPopup(popup_1d6abf238f231344ee07a4d80c5ac95b)\n",
       "        ;\n",
       "\n",
       "        \n",
       "    \n",
       "    \n",
       "            var circle_marker_e2dac1efddd748b8e12c1ce994dcb94e = L.circleMarker(\n",
       "                [52.37454, 4.89798],\n",
       "                {&quot;bubblingMouseEvents&quot;: true, &quot;color&quot;: [&quot;orange&quot;], &quot;dashArray&quot;: null, &quot;dashOffset&quot;: null, &quot;fill&quot;: false, &quot;fillColor&quot;: [&quot;orange&quot;], &quot;fillOpacity&quot;: 0.2, &quot;fillRule&quot;: &quot;evenodd&quot;, &quot;lineCap&quot;: &quot;round&quot;, &quot;lineJoin&quot;: &quot;round&quot;, &quot;opacity&quot;: 1.0, &quot;radius&quot;: 10, &quot;stroke&quot;: true, &quot;weight&quot;: 3}\n",
       "            ).addTo(map_87a98ec36e97dc5c76aff3a04903f6a4);\n",
       "        \n",
       "    \n",
       "        var popup_f49e1b2167122d06578a343ed7a8ccca = L.popup({&quot;maxWidth&quot;: &quot;100%&quot;});\n",
       "\n",
       "        \n",
       "            \n",
       "                var html_44b8c945484e3a8a00b1307972f7baaa = $(`&lt;div id=&quot;html_44b8c945484e3a8a00b1307972f7baaa&quot; style=&quot;width: 100.0%; height: 100.0%;&quot;&gt;Amsterdam&lt;/div&gt;`)[0];\n",
       "                popup_f49e1b2167122d06578a343ed7a8ccca.setContent(html_44b8c945484e3a8a00b1307972f7baaa);\n",
       "            \n",
       "        \n",
       "\n",
       "        circle_marker_e2dac1efddd748b8e12c1ce994dcb94e.bindPopup(popup_f49e1b2167122d06578a343ed7a8ccca)\n",
       "        ;\n",
       "\n",
       "        \n",
       "    \n",
       "    \n",
       "            var circle_marker_f29fc8302a0bca4539d153536501242d = L.circleMarker(\n",
       "                [41.38289, 2.17743],\n",
       "                {&quot;bubblingMouseEvents&quot;: true, &quot;color&quot;: [&quot;yellow&quot;], &quot;dashArray&quot;: null, &quot;dashOffset&quot;: null, &quot;fill&quot;: false, &quot;fillColor&quot;: [&quot;yellow&quot;], &quot;fillOpacity&quot;: 0.2, &quot;fillRule&quot;: &quot;evenodd&quot;, &quot;lineCap&quot;: &quot;round&quot;, &quot;lineJoin&quot;: &quot;round&quot;, &quot;opacity&quot;: 1.0, &quot;radius&quot;: 10, &quot;stroke&quot;: true, &quot;weight&quot;: 3}\n",
       "            ).addTo(map_87a98ec36e97dc5c76aff3a04903f6a4);\n",
       "        \n",
       "    \n",
       "        var popup_71674079809a0972983438c2c5c637dd = L.popup({&quot;maxWidth&quot;: &quot;100%&quot;});\n",
       "\n",
       "        \n",
       "            \n",
       "                var html_81017261f2f4e9340d2e38c2f553396a = $(`&lt;div id=&quot;html_81017261f2f4e9340d2e38c2f553396a&quot; style=&quot;width: 100.0%; height: 100.0%;&quot;&gt;Barcelona&lt;/div&gt;`)[0];\n",
       "                popup_71674079809a0972983438c2c5c637dd.setContent(html_81017261f2f4e9340d2e38c2f553396a);\n",
       "            \n",
       "        \n",
       "\n",
       "        circle_marker_f29fc8302a0bca4539d153536501242d.bindPopup(popup_71674079809a0972983438c2c5c637dd)\n",
       "        ;\n",
       "\n",
       "        \n",
       "    \n",
       "    \n",
       "            var circle_marker_daf6ee45c2da3f88167f4f6d55edff0f = L.circleMarker(\n",
       "                [48.20835, 16.3725],\n",
       "                {&quot;bubblingMouseEvents&quot;: true, &quot;color&quot;: [&quot;red&quot;], &quot;dashArray&quot;: null, &quot;dashOffset&quot;: null, &quot;fill&quot;: false, &quot;fillColor&quot;: [&quot;red&quot;], &quot;fillOpacity&quot;: 0.2, &quot;fillRule&quot;: &quot;evenodd&quot;, &quot;lineCap&quot;: &quot;round&quot;, &quot;lineJoin&quot;: &quot;round&quot;, &quot;opacity&quot;: 1.0, &quot;radius&quot;: 10, &quot;stroke&quot;: true, &quot;weight&quot;: 3}\n",
       "            ).addTo(map_87a98ec36e97dc5c76aff3a04903f6a4);\n",
       "        \n",
       "    \n",
       "        var popup_d0cf9cc07087145017a27bacd5173c8e = L.popup({&quot;maxWidth&quot;: &quot;100%&quot;});\n",
       "\n",
       "        \n",
       "            \n",
       "                var html_965b1f0f48a28ce865b3611d6ad511fe = $(`&lt;div id=&quot;html_965b1f0f48a28ce865b3611d6ad511fe&quot; style=&quot;width: 100.0%; height: 100.0%;&quot;&gt;Wien&lt;/div&gt;`)[0];\n",
       "                popup_d0cf9cc07087145017a27bacd5173c8e.setContent(html_965b1f0f48a28ce865b3611d6ad511fe);\n",
       "            \n",
       "        \n",
       "\n",
       "        circle_marker_daf6ee45c2da3f88167f4f6d55edff0f.bindPopup(popup_d0cf9cc07087145017a27bacd5173c8e)\n",
       "        ;\n",
       "\n",
       "        \n",
       "    \n",
       "&lt;/script&gt;\" style=\"position:absolute;width:100%;height:100%;left:0;top:0;border:none !important;\" allowfullscreen webkitallowfullscreen mozallowfullscreen></iframe></div></div>"
      ],
      "text/plain": [
       "<folium.folium.Map at 0x14ff396bdc0>"
      ]
     },
     "execution_count": 3,
     "metadata": {},
     "output_type": "execute_result"
    }
   ],
   "source": [
    "# Markere stedene fra filen i kartet\n",
    "for radnr, bynavn in enumerate(df[\"By\"]):\n",
    "   folium.CircleMarker(\n",
    "        location=[df.loc[radnr][1], df.loc[radnr][2]], # Henter posisjonen fra tabell\n",
    "        popup = bynavn[0:10], radius= 10,\n",
    "        color= [df.loc[radnr][3]], # Henter farge fra tabell\n",
    "        ).add_to(kart)\n",
    "kart"
   ]
  },
  {
   "cell_type": "code",
   "execution_count": 4,
   "id": "8c448490",
   "metadata": {},
   "outputs": [],
   "source": [
    "# Vil nå beregne avstanden mellom to tilfeldig valgte byer.\n",
    "from geopy.distance import geodesic\n",
    "import random"
   ]
  },
  {
   "cell_type": "code",
   "execution_count": 5,
   "id": "b0d684ca",
   "metadata": {},
   "outputs": [
    {
     "name": "stdout",
     "output_type": "stream",
     "text": [
      "Avstanden fra Wien til Amsterdam er 938 km.\n"
     ]
    }
   ],
   "source": [
    "pos1, pos2 = random.sample(list(df.index),2) # Plukker ut to tilfeldige radnumre\n",
    "\n",
    "by1 = (df.iloc[pos1][1], df.iloc[pos1][2]) # henter posisjonen fra tabell\n",
    "by2 = (df.iloc[pos2][1], df.iloc[pos2][2])\n",
    "avstand = int(geodesic(by1, by2).km)\n",
    "print(f\"Avstanden fra {df.iloc[pos1][0]} til {df.iloc[pos2][0]} er {avstand} km.\")"
   ]
  },
  {
   "cell_type": "code",
   "execution_count": null,
   "id": "e1036379",
   "metadata": {},
   "outputs": [],
   "source": []
  }
 ],
 "metadata": {
  "kernelspec": {
   "display_name": "Python 3 (ipykernel)",
   "language": "python",
   "name": "python3"
  },
  "language_info": {
   "codemirror_mode": {
    "name": "ipython",
    "version": 3
   },
   "file_extension": ".py",
   "mimetype": "text/x-python",
   "name": "python",
   "nbconvert_exporter": "python",
   "pygments_lexer": "ipython3",
   "version": "3.9.13"
  }
 },
 "nbformat": 4,
 "nbformat_minor": 5
}
